{
  "nbformat": 4,
  "nbformat_minor": 0,
  "metadata": {
    "accelerator": "GPU",
    "colab": {
      "name": "wbap-hackathon.ipynb",
      "provenance": [],
      "collapsed_sections": []
    },
    "kernelspec": {
      "display_name": "Python 3",
      "name": "python3"
    },
    "language_info": {
      "name": "python"
    }
  },
  "cells": [
    {
      "cell_type": "markdown",
      "metadata": {
        "id": "sSZjbw6kWch4"
      },
      "source": [
        "# WBAP Hackathon 2021\n",
        "A google colab friendly notebook. It will allow you to use colab gpu to train your hackathon model from your code in a github repo. "
      ]
    },
    {
      "cell_type": "markdown",
      "metadata": {
        "id": "tm9NDeAhUrCY"
      },
      "source": [
        "## Specify the GitHub repository and branch that you want to run from"
      ]
    },
    {
      "cell_type": "code",
      "metadata": {
        "id": "XwPnR2ibNlh2"
      },
      "source": [
        "branch = 'master'\n",
        "github_url = 'https://github.com/pulinagrawal/WM_Hackathon'"
      ],
      "execution_count": 1,
      "outputs": []
    },
    {
      "cell_type": "markdown",
      "metadata": {
        "id": "crY-fJF8UzWl"
      },
      "source": [
        "## Run the cells in this section to setup environment \n",
        "It can take several minutes to run."
      ]
    },
    {
      "cell_type": "code",
      "metadata": {
        "id": "BbsZn_xidsIc",
        "colab": {
          "base_uri": "https://localhost:8080/"
        },
        "outputId": "be970238-98b9-4db5-ba27-9ee976465627"
      },
      "source": [
        "!git clone $github_url\n",
        "import os\n",
        "from pathlib import Path\n",
        "os.chdir(str('WM_Hackathon'))\n",
        "!git checkout $branch\n",
        "\n",
        "!pip install ray[debug]===0.8.7\n",
        "!pip install -r requirements.txt\n",
        "\n",
        "os.chdir(str(Path('..')))\n",
        "!git clone https://github.com/Cerenaut/cerenaut-pt-core \n",
        "!pwd\n",
        "os.chdir(str(Path('.')/'cerenaut-pt-core'))\n",
        "!pwd\n",
        "!python setup.py develop\n",
        "os.chdir(str(Path('..')/'WM_Hackathon'))\n",
        "!pwd\n",
        "!pip install --ignore-installed --no-deps -e .\n",
        "\n",
        "# A hack to force the runtime to restart, needed to include the above dependencies.\n",
        "import os\n",
        "os._exit(0)"
      ],
      "execution_count": null,
      "outputs": [
        {
          "output_type": "stream",
          "name": "stdout",
          "text": [
            "Cloning into 'WM_Hackathon'...\n",
            "remote: Enumerating objects: 1631, done.\u001b[K\n",
            "remote: Counting objects: 100% (158/158), done.\u001b[K\n",
            "remote: Compressing objects: 100% (112/112), done.\u001b[K\n",
            "remote: Total 1631 (delta 82), reused 103 (delta 46), pack-reused 1473\u001b[K\n",
            "Receiving objects: 100% (1631/1631), 63.58 MiB | 37.92 MiB/s, done.\n",
            "Resolving deltas: 100% (1031/1031), done.\n",
            "Already on 'master'\n",
            "Your branch is up to date with 'origin/master'.\n",
            "Collecting ray[debug]===0.8.7\n",
            "  Downloading ray-0.8.7-cp37-cp37m-manylinux1_x86_64.whl (22.0 MB)\n",
            "\u001b[K     |████████████████████████████████| 22.0 MB 1.4 MB/s \n",
            "\u001b[?25hCollecting colorful\n",
            "  Downloading colorful-0.5.4-py2.py3-none-any.whl (201 kB)\n",
            "\u001b[K     |████████████████████████████████| 201 kB 42.1 MB/s \n",
            "\u001b[?25hCollecting redis<3.5.0,>=3.3.2\n",
            "  Downloading redis-3.4.1-py2.py3-none-any.whl (71 kB)\n",
            "\u001b[K     |████████████████████████████████| 71 kB 8.2 MB/s \n",
            "\u001b[?25hRequirement already satisfied: protobuf>=3.8.0 in /usr/local/lib/python3.7/dist-packages (from ray[debug]===0.8.7) (3.17.3)\n",
            "Requirement already satisfied: pyyaml in /usr/local/lib/python3.7/dist-packages (from ray[debug]===0.8.7) (3.13)\n",
            "Collecting gpustat\n",
            "  Downloading gpustat-0.6.0.tar.gz (78 kB)\n",
            "\u001b[K     |████████████████████████████████| 78 kB 6.4 MB/s \n",
            "\u001b[?25hRequirement already satisfied: grpcio>=1.28.1 in /usr/local/lib/python3.7/dist-packages (from ray[debug]===0.8.7) (1.39.0)\n",
            "Collecting colorama\n",
            "  Downloading colorama-0.4.4-py2.py3-none-any.whl (16 kB)\n",
            "Requirement already satisfied: requests in /usr/local/lib/python3.7/dist-packages (from ray[debug]===0.8.7) (2.23.0)\n",
            "Requirement already satisfied: prometheus-client>=0.7.1 in /usr/local/lib/python3.7/dist-packages (from ray[debug]===0.8.7) (0.11.0)\n",
            "Requirement already satisfied: numpy>=1.16 in /usr/local/lib/python3.7/dist-packages (from ray[debug]===0.8.7) (1.19.5)\n",
            "Collecting py-spy>=0.2.0\n",
            "  Downloading py_spy-0.3.9-py2.py3-none-manylinux_2_5_x86_64.manylinux1_x86_64.whl (3.2 MB)\n",
            "\u001b[K     |████████████████████████████████| 3.2 MB 43.8 MB/s \n",
            "\u001b[?25hRequirement already satisfied: jsonschema in /usr/local/lib/python3.7/dist-packages (from ray[debug]===0.8.7) (2.6.0)\n",
            "Requirement already satisfied: google in /usr/local/lib/python3.7/dist-packages (from ray[debug]===0.8.7) (2.0.3)\n",
            "Requirement already satisfied: filelock in /usr/local/lib/python3.7/dist-packages (from ray[debug]===0.8.7) (3.0.12)\n",
            "Collecting opencensus\n",
            "  Downloading opencensus-0.7.13-py2.py3-none-any.whl (127 kB)\n",
            "\u001b[K     |████████████████████████████████| 127 kB 29.6 MB/s \n",
            "\u001b[?25hRequirement already satisfied: msgpack<2.0.0,>=1.0.0 in /usr/local/lib/python3.7/dist-packages (from ray[debug]===0.8.7) (1.0.2)\n",
            "Requirement already satisfied: click>=7.0 in /usr/local/lib/python3.7/dist-packages (from ray[debug]===0.8.7) (7.1.2)\n",
            "Collecting aioredis\n",
            "  Downloading aioredis-2.0.0-py3-none-any.whl (69 kB)\n",
            "\u001b[K     |████████████████████████████████| 69 kB 6.4 MB/s \n",
            "\u001b[?25hCollecting aiohttp\n",
            "  Downloading aiohttp-3.7.4.post0-cp37-cp37m-manylinux2014_x86_64.whl (1.3 MB)\n",
            "\u001b[K     |████████████████████████████████| 1.3 MB 43.5 MB/s \n",
            "\u001b[?25hRequirement already satisfied: six>=1.5.2 in /usr/local/lib/python3.7/dist-packages (from grpcio>=1.28.1->ray[debug]===0.8.7) (1.15.0)\n",
            "Collecting async-timeout<4.0,>=3.0\n",
            "  Downloading async_timeout-3.0.1-py3-none-any.whl (8.2 kB)\n",
            "Requirement already satisfied: attrs>=17.3.0 in /usr/local/lib/python3.7/dist-packages (from aiohttp->ray[debug]===0.8.7) (21.2.0)\n",
            "Collecting multidict<7.0,>=4.5\n",
            "  Downloading multidict-5.1.0-cp37-cp37m-manylinux2014_x86_64.whl (142 kB)\n",
            "\u001b[K     |████████████████████████████████| 142 kB 47.5 MB/s \n",
            "\u001b[?25hRequirement already satisfied: chardet<5.0,>=2.0 in /usr/local/lib/python3.7/dist-packages (from aiohttp->ray[debug]===0.8.7) (3.0.4)\n",
            "Collecting yarl<2.0,>=1.0\n",
            "  Downloading yarl-1.6.3-cp37-cp37m-manylinux2014_x86_64.whl (294 kB)\n",
            "\u001b[K     |████████████████████████████████| 294 kB 34.6 MB/s \n",
            "\u001b[?25hRequirement already satisfied: typing-extensions>=3.6.5 in /usr/local/lib/python3.7/dist-packages (from aiohttp->ray[debug]===0.8.7) (3.7.4.3)\n",
            "Requirement already satisfied: idna>=2.0 in /usr/local/lib/python3.7/dist-packages (from yarl<2.0,>=1.0->aiohttp->ray[debug]===0.8.7) (2.10)\n",
            "Requirement already satisfied: beautifulsoup4 in /usr/local/lib/python3.7/dist-packages (from google->ray[debug]===0.8.7) (4.6.3)\n",
            "Requirement already satisfied: nvidia-ml-py3>=7.352.0 in /usr/local/lib/python3.7/dist-packages (from gpustat->ray[debug]===0.8.7) (7.352.0)\n",
            "Requirement already satisfied: psutil in /usr/local/lib/python3.7/dist-packages (from gpustat->ray[debug]===0.8.7) (5.4.8)\n",
            "Collecting blessings>=1.6\n",
            "  Downloading blessings-1.7-py3-none-any.whl (18 kB)\n",
            "Requirement already satisfied: google-api-core<2.0.0,>=1.0.0 in /usr/local/lib/python3.7/dist-packages (from opencensus->ray[debug]===0.8.7) (1.26.3)\n",
            "Collecting opencensus-context==0.1.2\n",
            "  Downloading opencensus_context-0.1.2-py2.py3-none-any.whl (4.4 kB)\n",
            "Requirement already satisfied: pytz in /usr/local/lib/python3.7/dist-packages (from google-api-core<2.0.0,>=1.0.0->opencensus->ray[debug]===0.8.7) (2018.9)\n",
            "Requirement already satisfied: packaging>=14.3 in /usr/local/lib/python3.7/dist-packages (from google-api-core<2.0.0,>=1.0.0->opencensus->ray[debug]===0.8.7) (21.0)\n",
            "Requirement already satisfied: setuptools>=40.3.0 in /usr/local/lib/python3.7/dist-packages (from google-api-core<2.0.0,>=1.0.0->opencensus->ray[debug]===0.8.7) (57.4.0)\n",
            "Requirement already satisfied: googleapis-common-protos<2.0dev,>=1.6.0 in /usr/local/lib/python3.7/dist-packages (from google-api-core<2.0.0,>=1.0.0->opencensus->ray[debug]===0.8.7) (1.53.0)\n",
            "Requirement already satisfied: google-auth<2.0dev,>=1.21.1 in /usr/local/lib/python3.7/dist-packages (from google-api-core<2.0.0,>=1.0.0->opencensus->ray[debug]===0.8.7) (1.34.0)\n",
            "Requirement already satisfied: cachetools<5.0,>=2.0.0 in /usr/local/lib/python3.7/dist-packages (from google-auth<2.0dev,>=1.21.1->google-api-core<2.0.0,>=1.0.0->opencensus->ray[debug]===0.8.7) (4.2.2)\n",
            "Requirement already satisfied: pyasn1-modules>=0.2.1 in /usr/local/lib/python3.7/dist-packages (from google-auth<2.0dev,>=1.21.1->google-api-core<2.0.0,>=1.0.0->opencensus->ray[debug]===0.8.7) (0.2.8)\n",
            "Requirement already satisfied: rsa<5,>=3.1.4 in /usr/local/lib/python3.7/dist-packages (from google-auth<2.0dev,>=1.21.1->google-api-core<2.0.0,>=1.0.0->opencensus->ray[debug]===0.8.7) (4.7.2)\n",
            "Requirement already satisfied: pyparsing>=2.0.2 in /usr/local/lib/python3.7/dist-packages (from packaging>=14.3->google-api-core<2.0.0,>=1.0.0->opencensus->ray[debug]===0.8.7) (2.4.7)\n",
            "Requirement already satisfied: pyasn1<0.5.0,>=0.4.6 in /usr/local/lib/python3.7/dist-packages (from pyasn1-modules>=0.2.1->google-auth<2.0dev,>=1.21.1->google-api-core<2.0.0,>=1.0.0->opencensus->ray[debug]===0.8.7) (0.4.8)\n",
            "Requirement already satisfied: certifi>=2017.4.17 in /usr/local/lib/python3.7/dist-packages (from requests->ray[debug]===0.8.7) (2021.5.30)\n",
            "Requirement already satisfied: urllib3!=1.25.0,!=1.25.1,<1.26,>=1.21.1 in /usr/local/lib/python3.7/dist-packages (from requests->ray[debug]===0.8.7) (1.24.3)\n",
            "Building wheels for collected packages: gpustat\n",
            "  Building wheel for gpustat (setup.py) ... \u001b[?25l\u001b[?25hdone\n",
            "  Created wheel for gpustat: filename=gpustat-0.6.0-py3-none-any.whl size=12617 sha256=dcff7e2bdb511431712b0755be501970cd5429c93a1d45a59552c043bc53387f\n",
            "  Stored in directory: /root/.cache/pip/wheels/e6/67/af/f1ad15974b8fd95f59a63dbf854483ebe5c7a46a93930798b8\n",
            "Successfully built gpustat\n"
          ]
        }
      ]
    },
    {
      "cell_type": "markdown",
      "metadata": {
        "id": "crpLmFVqVPf3"
      },
      "source": [
        "### Verify that the installed version of ray is '0.8.7' and your current directory is '/content/WM_Hackathon'"
      ]
    },
    {
      "cell_type": "code",
      "metadata": {
        "colab": {
          "base_uri": "https://localhost:8080/",
          "height": 35
        },
        "id": "oqM6Ke2QfBSQ",
        "outputId": "038b14fc-96e2-410a-ab61-ff213d9b7c8b"
      },
      "source": [
        "import ray\n",
        "ray.__version__"
      ],
      "execution_count": 2,
      "outputs": [
        {
          "output_type": "execute_result",
          "data": {
            "application/vnd.google.colaboratory.intrinsic+json": {
              "type": "string"
            },
            "text/plain": [
              "'0.8.7'"
            ]
          },
          "metadata": {},
          "execution_count": 2
        }
      ]
    },
    {
      "cell_type": "code",
      "metadata": {
        "colab": {
          "base_uri": "https://localhost:8080/"
        },
        "id": "Ob-HPAVpULmL",
        "outputId": "50c61288-2e55-49ef-ccdc-829f66b1539e"
      },
      "source": [
        "import os\n",
        "from pathlib import Path\n",
        "os.chdir('/content/WM_Hackathon')\n",
        "!echo Your current directory is\n",
        "!pwd"
      ],
      "execution_count": 11,
      "outputs": [
        {
          "output_type": "stream",
          "name": "stdout",
          "text": [
            "Your current directory is\n",
            "/content/WM_Hackathon\n"
          ]
        }
      ]
    },
    {
      "cell_type": "markdown",
      "metadata": {
        "id": "5k3X62AfV-1s"
      },
      "source": [
        "# Now you can run train_agent.py with your config"
      ]
    },
    {
      "cell_type": "code",
      "metadata": {
        "id": "guWkf0s-gKlG"
      },
      "source": [
        "!python train_agent.py m2s-v0 configs/m2s_env.json configs/stub_agent_env_full.json configs/stub_agent_full.json"
      ],
      "execution_count": null,
      "outputs": []
    },
    {
      "cell_type": "markdown",
      "metadata": {
        "id": "lE8hgC0KWGbY"
      },
      "source": [
        "## Apologies. Haven't figured out tensorboard yet.\n",
        "(This should have technically worked)"
      ]
    },
    {
      "cell_type": "code",
      "metadata": {
        "colab": {
          "base_uri": "https://localhost:8080/",
          "height": 821
        },
        "id": "b_4Ck7cblmA9",
        "outputId": "6b790b76-e40c-4520-ae27-dcb24fd7fef1"
      },
      "source": [
        "%reload_ext tensorboard\n",
        "%tensorboard --logdir /content/WM_Hackathon/runs"
      ],
      "execution_count": null,
      "outputs": [
        {
          "data": {
            "application/javascript": [
              "\n",
              "        (async () => {\n",
              "            const url = await google.colab.kernel.proxyPort(6007, {\"cache\": true});\n",
              "            const iframe = document.createElement('iframe');\n",
              "            iframe.src = url;\n",
              "            iframe.setAttribute('width', '100%');\n",
              "            iframe.setAttribute('height', '800');\n",
              "            iframe.setAttribute('frameborder', 0);\n",
              "            document.body.appendChild(iframe);\n",
              "        })();\n",
              "    "
            ],
            "text/plain": [
              "<IPython.core.display.Javascript object>"
            ]
          },
          "metadata": {},
          "output_type": "display_data"
        }
      ]
    }
  ]
}